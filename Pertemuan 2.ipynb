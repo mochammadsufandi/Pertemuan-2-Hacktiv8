{
 "cells": [
  {
   "cell_type": "markdown",
   "metadata": {},
   "source": [
    "Conditional, logical condition"
   ]
  },
  {
   "cell_type": "markdown",
   "metadata": {},
   "source": [
    "Introduction to the if Statement"
   ]
  },
  {
   "cell_type": "code",
   "execution_count": 1,
   "metadata": {},
   "outputs": [
    {
     "name": "stdout",
     "output_type": "stream",
     "text": [
      "a tidak sama dengan b\n"
     ]
    }
   ],
   "source": [
    "#equal \n",
    "a = 2\n",
    "b = 3\n",
    "if a==b :\n",
    "    print('a sama dengan b')\n",
    "elif a!=b :\n",
    "    print('a tidak sama dengan b')\n",
    "\n"
   ]
  },
  {
   "cell_type": "markdown",
   "metadata": {},
   "source": [
    "If dalam string, List, tuple, dict"
   ]
  },
  {
   "cell_type": "code",
   "execution_count": 2,
   "metadata": {},
   "outputs": [
    {
     "name": "stdout",
     "output_type": "stream",
     "text": [
      "adalah benar\n",
      "M terdapat dalam Memew\n",
      "True\n"
     ]
    }
   ],
   "source": [
    "ListCity = ['Bandung','Malang','Surabaya','Makassar']\n",
    "TupleCity = ('Bandung','Malang','Surabaya','Makassar')\n",
    "DictCity = {'Jawa Barat':'Bandung','Jawa Timur':'Surabaya','Sulsel':'Makassar'}\n",
    "M = 'Memew'\n",
    "\n",
    "if 'Bandung' in ListCity :\n",
    "    print('adalah benar')\n",
    "if 'M' in M :\n",
    "    print('M','terdapat dalam',M)\n",
    "if  'Jawa Barat' in DictCity.keys() == 'Bandung' in DictCity.values() :\n",
    "    print('True')\n",
    "\n",
    "# If in Tuple with input variable\n",
    "x = 'Bandung'\n",
    "if x in TupleCity :\n",
    "    print('True')\n"
   ]
  },
  {
   "cell_type": "markdown",
   "metadata": {},
   "source": [
    "Grouping Statements : Indentation and Blocks"
   ]
  },
  {
   "cell_type": "code",
   "execution_count": 3,
   "metadata": {},
   "outputs": [
    {
     "name": "stdout",
     "output_type": "stream",
     "text": [
      "True, langkah selanjutnya\n",
      "adalah benar\n",
      "Tepattt\n",
      "Thanks!\n"
     ]
    }
   ],
   "source": [
    "if 'Surabaya' in ListCity :\n",
    "    print('True, langkah selanjutnya')\n",
    "\n",
    "    if 'Surabaya' == ListCity[2] :\n",
    "        print('adalah benar')\n",
    "    if 'Surabaya' == max(ListCity) :\n",
    "        print('Tepattt')\n",
    "print('Thanks!')"
   ]
  },
  {
   "cell_type": "markdown",
   "metadata": {},
   "source": [
    "The else and elif Clause"
   ]
  },
  {
   "cell_type": "code",
   "execution_count": 4,
   "metadata": {},
   "outputs": [
    {
     "ename": "SyntaxError",
     "evalue": "invalid syntax (646700800.py, line 21)",
     "output_type": "error",
     "traceback": [
      "\u001b[1;36m  Input \u001b[1;32mIn [4]\u001b[1;36m\u001b[0m\n\u001b[1;33m    print('Beli Drink')y\u001b[0m\n\u001b[1;37m                       ^\u001b[0m\n\u001b[1;31mSyntaxError\u001b[0m\u001b[1;31m:\u001b[0m invalid syntax\n"
     ]
    }
   ],
   "source": [
    "myMoney = 100000\n",
    "Food = 8000\n",
    "Drink = 4000\n",
    "\n",
    "if Food>Drink :\n",
    "\n",
    "    if myMoney>=Food :\n",
    "\n",
    "        if myMoney>=Drink + Food :\n",
    "            print('Beli keduanya')\n",
    "        else :\n",
    "            print('Beli Food')\n",
    "\n",
    "elif Food<Drink :\n",
    "\n",
    "    if myMoney>=Drink :\n",
    "        \n",
    "        if myMoney>=Drink + Food :\n",
    "            print('Beli keduanya')\n",
    "        else :\n",
    "            print('Beli Drink')y"
   ]
  },
  {
   "cell_type": "markdown",
   "metadata": {},
   "source": [
    "one line statement"
   ]
  },
  {
   "cell_type": "code",
   "execution_count": null,
   "metadata": {},
   "outputs": [
    {
     "name": "stdout",
     "output_type": "stream",
     "text": [
      "hmhmhmhm\n"
     ]
    }
   ],
   "source": [
    "if 'k' in 'Mehdew' : print('Gusion');print('adalah benar')\n",
    "print('hmhmhmhm')"
   ]
  },
  {
   "cell_type": "markdown",
   "metadata": {},
   "source": [
    "Conditional Expression"
   ]
  },
  {
   "cell_type": "code",
   "execution_count": null,
   "metadata": {},
   "outputs": [
    {
     "name": "stdout",
     "output_type": "stream",
     "text": [
      "jadi pergi ke pantai\n",
      "jadi pergi ke pantai\n",
      "yes\n",
      "yes\n",
      "adik aku berjumlah ('bukan', 3)\n"
     ]
    }
   ],
   "source": [
    "summer=True\n",
    "print('jadi pergi ke pantai' if summer else 'tidak jadi pergi ke pantai')\n",
    "#dirangkum dalam perintah print + pilihan\n",
    "print('jadi pergi' if summer else  'tidak jadi pergi','ke pantai')\n",
    "\n",
    "###--------Coba di list---------###\n",
    "# if <expr> : statement\n",
    "if 'aku' in ['aku','ayah','kakak','mama'] :\n",
    "    print('yes')\n",
    "else :\n",
    "    print('no')\n",
    "# <expr1> if <conditional expr> else <expr2>\n",
    "print('yes') if 'aku' in ['aku','ayah','kakak','mama']  else print('no')\n",
    "\n",
    "Adik=3\n",
    "print('adik aku berjumlah',Adik if Adik==2 else ('bukan',Adik) )"
   ]
  },
  {
   "cell_type": "markdown",
   "metadata": {},
   "source": [
    "The Phyton Pass Statement"
   ]
  },
  {
   "cell_type": "code",
   "execution_count": null,
   "metadata": {},
   "outputs": [
    {
     "name": "stdout",
     "output_type": "stream",
     "text": [
      "foo\n"
     ]
    }
   ],
   "source": [
    "if True :\n",
    "    pass\n",
    "print('foo')"
   ]
  },
  {
   "cell_type": "markdown",
   "metadata": {},
   "source": [
    "Iteration/Pengulangan "
   ]
  },
  {
   "cell_type": "markdown",
   "metadata": {},
   "source": [
    "Phyton \"while\" Loops"
   ]
  },
  {
   "cell_type": "code",
   "execution_count": null,
   "metadata": {},
   "outputs": [
    {
     "name": "stdout",
     "output_type": "stream",
     "text": [
      "8\n",
      "6\n",
      "4\n",
      "2\n",
      "0\n",
      "\n",
      "8\n",
      "6\n",
      "4\n",
      "2\n",
      "0\n",
      "\n",
      "1\n",
      "3\n",
      "5\n",
      "7\n",
      "9\n"
     ]
    }
   ],
   "source": [
    "A = 10\n",
    "b = -2\n",
    "while A>0 :\n",
    "    A = A+b \n",
    "    print(A)\n",
    "#SYNTAX LAIN\n",
    "print()\n",
    "B=10\n",
    "while B>0 :\n",
    "    B-=2\n",
    "    print(B)\n",
    "print()\n",
    "i=1\n",
    "while i<10 :\n",
    "    print(i)\n",
    "    i+=2\n",
    "\n"
   ]
  },
  {
   "cell_type": "code",
   "execution_count": null,
   "metadata": {},
   "outputs": [
    {
     "name": "stdout",
     "output_type": "stream",
     "text": [
      "qw\n",
      "we\n",
      "er\n",
      "rt\n",
      "1 2\n",
      "2 4\n",
      "3 8\n",
      "4 16\n",
      "5 32\n",
      "6 64\n",
      "7 128\n",
      "8 256\n",
      "9 512\n",
      "10 1024\n"
     ]
    }
   ],
   "source": [
    "List=['qw','we','er','rt']\n",
    "List[0]\n",
    "i = len(List)\n",
    "j=0\n",
    "while j<i :\n",
    "    print(List[j])\n",
    "    j+=1\n",
    "### Gawe Deret Geometri menggunakan While ###\n",
    "U0=2\n",
    "x=0\n",
    "r=2\n",
    "while x<10 :\n",
    "    x+=1\n",
    "    Un=U0*r**(x-1)\n",
    "    print(x,Un)"
   ]
  },
  {
   "cell_type": "markdown",
   "metadata": {},
   "source": [
    "The Phyton Break and Continue Statement"
   ]
  },
  {
   "cell_type": "code",
   "execution_count": null,
   "metadata": {},
   "outputs": [
    {
     "name": "stdout",
     "output_type": "stream",
     "text": [
      "1 adalah ganjil\n",
      "2 adalah genap\n",
      "3 adalah ganjil\n",
      "4 adalah genap\n",
      "5 adalah ganjil\n",
      "6 adalah genap\n",
      "7 adalah ganjil\n",
      "8 adalah genap\n",
      "9 adalah ganjil\n",
      "Loop Ended\n",
      "\n",
      "1 1\n",
      "2 5\n",
      "3 9\n",
      "4 13\n",
      "6 21\n",
      "7 25\n",
      "8 29\n",
      "9 33\n",
      "10 37\n",
      "11 41\n",
      "Loop Ended\n",
      "1 1\n",
      "2 5\n",
      "3 9\n",
      "4 13\n",
      "5 17\n",
      "6 21\n",
      "7 25\n",
      "8 29\n"
     ]
    }
   ],
   "source": [
    "#bilangan genap adalah bilangan yang habis dibagi 2 \n",
    "#bilangan ganjil adalah bilangan yang tidak habis dibagi 2\n",
    "num=1\n",
    "while num<15 :\n",
    "    if num%2!=0 :\n",
    "        print(num,'adalah ganjil')\n",
    "        num+=1\n",
    "    elif num%2==0 :\n",
    "        print(num,'adalah genap')\n",
    "        num+=1\n",
    "    if num==10 :\n",
    "        break  #break mengeksekusi perintah diluar while/pernyataan utama\n",
    "print('Loop Ended')\n",
    "print()\n",
    "\n",
    "n=0\n",
    "num1=1\n",
    "b=4\n",
    "series=0\n",
    "while n<11 :\n",
    "    series=num1+n*b\n",
    "    n+=1\n",
    "    if n==5 :\n",
    "        continue\n",
    "    print(n,series)\n",
    "print('Loop Ended')\n",
    "\n",
    "#Membuat deret aritmatika (other way)\n",
    "series1=1\n",
    "suku=1\n",
    "while series1<30 :\n",
    "    print(suku,series1)\n",
    "    series1+=4\n",
    "    suku+=1\n",
    "    \n",
    "    \n",
    "    \n"
   ]
  },
  {
   "cell_type": "markdown",
   "metadata": {},
   "source": [
    "The Else Clause"
   ]
  },
  {
   "cell_type": "code",
   "execution_count": null,
   "metadata": {},
   "outputs": [
    {
     "name": "stdout",
     "output_type": "stream",
     "text": [
      "20\n",
      "14\n",
      "8\n",
      "No Loop\n",
      "0 2\n",
      "1 8\n",
      "2 14\n",
      "3 20\n"
     ]
    }
   ],
   "source": [
    "a=20\n",
    "while a>5 :\n",
    "    print(a)\n",
    "    a-=6\n",
    "else :\n",
    "    print('No Loop')\n",
    "### Ketika terdapat break sebelum else pada while ###\n",
    "i=0\n",
    "awal=8\n",
    "while i<5 :\n",
    "    print(i,a)\n",
    "    a=awal+i*6\n",
    "    i+=1\n",
    "    if i==4 :\n",
    "        break\n",
    "else : \n",
    "    print('No Loop') #Statement pada else tidak dieksekusi\n"
   ]
  },
  {
   "cell_type": "markdown",
   "metadata": {},
   "source": [
    "Infinite Loops "
   ]
  },
  {
   "cell_type": "code",
   "execution_count": null,
   "metadata": {},
   "outputs": [
    {
     "name": "stdout",
     "output_type": "stream",
     "text": [
      "yoiii\n",
      "udah2\n"
     ]
    }
   ],
   "source": [
    "while 4%2==0 : #expr yang benar dan tidak pernah berakhir\n",
    "    print('yoiii')\n",
    "    if 4%2==0 :\n",
    "        break\n",
    "print('udah2')"
   ]
  },
  {
   "cell_type": "markdown",
   "metadata": {},
   "source": [
    "Nested While Loop"
   ]
  },
  {
   "cell_type": "code",
   "execution_count": null,
   "metadata": {},
   "outputs": [
    {
     "name": "stdout",
     "output_type": "stream",
     "text": [
      "3\n",
      "- aku\n",
      "- kamu\n",
      "- kita\n",
      "2\n",
      "- aku\n",
      "- kamu\n",
      "- kita\n",
      "1\n",
      "- aku\n",
      "- kamu\n",
      "- kita\n"
     ]
    }
   ],
   "source": [
    "s=[1,2,3]\n",
    "while len(s) :\n",
    "    print(s.pop())\n",
    "    ss=['aku','kamu','kita']\n",
    "    while len(ss) :\n",
    "        print('-',ss.pop(0))\n",
    "\n"
   ]
  },
  {
   "cell_type": "markdown",
   "metadata": {},
   "source": [
    "One Line while loop"
   ]
  },
  {
   "cell_type": "code",
   "execution_count": null,
   "metadata": {},
   "outputs": [
    {
     "name": "stdout",
     "output_type": "stream",
     "text": [
      "5\n",
      "3\n",
      "1\n"
     ]
    }
   ],
   "source": [
    "x=5\n",
    "while x>0 : print(x); x-=2"
   ]
  },
  {
   "cell_type": "markdown",
   "metadata": {},
   "source": [
    "Numeric Range Loop"
   ]
  },
  {
   "cell_type": "code",
   "execution_count": null,
   "metadata": {},
   "outputs": [
    {
     "name": "stdout",
     "output_type": "stream",
     "text": [
      "Rafi\n",
      "Andi\n",
      "Phahul\n",
      "Mehdi\n",
      "\n",
      "Spain\n",
      "English\n",
      "France\n",
      "\n",
      "Spain\n",
      "English\n",
      "France\n",
      "\n",
      "FCB\n",
      "MU\n",
      "PSG\n",
      "\n",
      "FCB\n",
      "MU\n",
      "PSG\n",
      "\n",
      "Spain : FCB\n",
      "English : MU\n",
      "France : PSG\n"
     ]
    }
   ],
   "source": [
    "### Iterasi for pada List\n",
    "motor=['Rafi','Andi','Phahul','Mehdi']\n",
    "for x in motor :\n",
    "    print(x)\n",
    "print()\n",
    "### Iterasi memanggil key pada dict\n",
    "Club={'Spain':'FCB','English':'MU','France':'PSG'}\n",
    "for i in Club :\n",
    "    print(i)\n",
    "print()\n",
    "# Cara lain memanggil values pada dict\n",
    "for i in Club.keys() :\n",
    "    print(i)\n",
    "print()\n",
    "### Iterasi memanggil values pada dict\n",
    "for i in Club :\n",
    "    print(Club[i])\n",
    "print()\n",
    "### Cara lain memanggil values pada dict\n",
    "for i in Club.values() :\n",
    "    print(i)\n",
    "print()\n",
    "# Iterasi untuk menampilkan item pada dict\n",
    "for i,j in Club.items() :\n",
    "    print(i,':',j)\n"
   ]
  },
  {
   "cell_type": "markdown",
   "metadata": {},
   "source": [
    "The Range () Function"
   ]
  },
  {
   "cell_type": "code",
   "execution_count": null,
   "metadata": {},
   "outputs": [
    {
     "name": "stdout",
     "output_type": "stream",
     "text": [
      "Suku ke 0 = 2\n",
      "Suku ke 1 = 5\n",
      "Suku ke 2 = 8\n",
      "Suku ke 3 = 11\n",
      "Suku ke 4 = 14\n"
     ]
    }
   ],
   "source": [
    "### membuat deret aritmatika dengan loop for\n",
    "x = range(5)\n",
    "a=2\n",
    "b=3\n",
    "for i in x :\n",
    "    Deret=a+i*b\n",
    "    print('Suku ke',i,'=',Deret)\n"
   ]
  },
  {
   "cell_type": "markdown",
   "metadata": {},
   "source": [
    "Altering for Loop Behavior\n",
    "The Break and Continue Statements"
   ]
  },
  {
   "cell_type": "code",
   "execution_count": 1,
   "metadata": {},
   "outputs": [
    {
     "name": "stdout",
     "output_type": "stream",
     "text": [
      "1\n",
      "2\n",
      "3\n",
      "4\n",
      "5\n",
      "6\n",
      "7\n",
      "wes mandek\n",
      "1\n",
      "2\n",
      "3\n",
      "4\n",
      "5\n",
      "6\n",
      "7\n",
      "9\n",
      "Wess\n"
     ]
    }
   ],
   "source": [
    "num=[1,2,3,4,5,6,7,8,9]\n",
    "for i in num : ### break pada for \n",
    "    if i%8==0 :\n",
    "        break \n",
    "    print(i)\n",
    "print('wes mandek')\n",
    "\n",
    "\n",
    "for j in num :\n",
    "    if j%8==0 :\n",
    "        continue\n",
    "    print(j)\n",
    "else : \n",
    "    print('Wess')"
   ]
  },
  {
   "cell_type": "markdown",
   "metadata": {},
   "source": [
    "The Else Clause"
   ]
  },
  {
   "cell_type": "code",
   "execution_count": 3,
   "metadata": {},
   "outputs": [],
   "source": [
    "temp=input('hoi')"
   ]
  }
 ],
 "metadata": {
  "kernelspec": {
   "display_name": "Python 3.10.5 64-bit",
   "language": "python",
   "name": "python3"
  },
  "language_info": {
   "codemirror_mode": {
    "name": "ipython",
    "version": 3
   },
   "file_extension": ".py",
   "mimetype": "text/x-python",
   "name": "python",
   "nbconvert_exporter": "python",
   "pygments_lexer": "ipython3",
   "version": "3.10.5"
  },
  "orig_nbformat": 4,
  "vscode": {
   "interpreter": {
    "hash": "26de051ba29f2982a8de78e945f0abaf191376122a1563185a90213a26c5da77"
   }
  }
 },
 "nbformat": 4,
 "nbformat_minor": 2
}
